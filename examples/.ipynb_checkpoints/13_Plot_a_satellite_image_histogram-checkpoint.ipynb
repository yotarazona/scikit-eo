{
 "cells": [
  {
   "cell_type": "markdown",
   "metadata": {
    "id": "03kWWTI13Kjp"
   },
   "source": [
    "<table class=\"ee-notebook-buttons\" align=\"center\">\n",
    "    <td><a target=\"_blank\"  href=\"https://colab.research.google.com/github/yotarazona/scikit-eo/blob/main/examples/13_Plot_a_satellite_image_histogram.ipynb\"><img src=\"https://www.tensorflow.org/images/colab_logo_32px.png\" /> Run in Google Colab</a></td>\n",
    "</table>"
   ]
  },
  {
   "cell_type": "markdown",
   "metadata": {
    "id": "I_OgkacwGrpK"
   },
   "source": [
    "# **_<div class=\"alert alert-success\"><font color='darkred'> Tutorials: 13 Plot a satellite image histogram </font></div>_**"
   ]
  },
  {
   "cell_type": "markdown",
   "metadata": {
    "id": "GOYoDn4IGrpf"
   },
   "source": [
    "# 1.0 Libraries"
   ]
  },
  {
   "cell_type": "markdown",
   "metadata": {
    "id": "2jX7gIePGrpg"
   },
   "source": [
    "To install ```scikit-eo``` and ```rasterio``` you can do it with the following line:"
   ]
  },
  {
   "cell_type": "code",
   "execution_count": null,
   "metadata": {
    "id": "KypXEstSLPTw"
   },
   "outputs": [],
   "source": [
    "!pip install scikeo rasterio"
   ]
  },
  {
   "cell_type": "markdown",
   "metadata": {
    "id": "iLc3sxOmGrpi"
   },
   "source": [
    "Libraries to be used:"
   ]
  },
  {
   "cell_type": "code",
   "execution_count": null,
   "metadata": {
    "id": "3dbhO1kLGrpk"
   },
   "outputs": [],
   "source": [
    "import rasterio\n",
    "import numpy as np\n",
    "from scikeo.plot import plotHist\n",
    "import matplotlib.pyplot as plt\n",
    "import seaborn as sns\n",
    "sns.set()"
   ]
  },
  {
   "cell_type": "markdown",
   "metadata": {
    "id": "nkv-SyfNLpw_"
   },
   "source": [
    "Connecting to Google Drive"
   ]
  },
  {
   "cell_type": "code",
   "execution_count": null,
   "metadata": {
    "colab": {
     "base_uri": "https://localhost:8080/"
    },
    "id": "obnfTzNQLo9m",
    "outputId": "48ba6379-a012-40bf-d773-bbf8fdbc8c6d"
   },
   "outputs": [
    {
     "name": "stdout",
     "output_type": "stream",
     "text": [
      "Mounted at /content/drive\n"
     ]
    }
   ],
   "source": [
    "from google.colab import drive\n",
    "drive.mount('/content/drive')"
   ]
  },
  {
   "cell_type": "markdown",
   "metadata": {
    "id": "RHeeTE_kGrpq"
   },
   "source": [
    "## 2.0 Optical image"
   ]
  },
  {
   "cell_type": "markdown",
   "metadata": {
    "id": "EzrQfCcRGrpt"
   },
   "source": [
    "Landsat-8 OLI (Operational Land Imager) will be used. This image, which is in surface reflectance, contain bands:\n",
    "- Blue -> B2\n",
    "- Green -> B3 \n",
    "- Red -> B4\n",
    "- Nir -> B5\n",
    "- Swir1 -> B6\n",
    "- Swir2 -> B7\n",
    "\n",
    "The image to be used can be downloaded [here](https://drive.google.com/drive/folders/1S6ZitgM355jWDsZVMxYSGf2em5K07-Lw?usp=drive_link):"
   ]
  },
  {
   "cell_type": "markdown",
   "metadata": {
    "id": "2nAbwC-FGrpu"
   },
   "source": [
    "## 3.0 Plot a histogram using the ```plotHist()``` function"
   ]
  },
  {
   "cell_type": "markdown",
   "metadata": {
    "id": "LggTYTGxGrpw"
   },
   "source": [
    "The image:"
   ]
  },
  {
   "cell_type": "code",
   "execution_count": null,
   "metadata": {
    "id": "MUFJcqzEGrpx"
   },
   "outputs": [],
   "source": [
    "path_raster = \"/content/drive/MyDrive/scikit-eo_data/13_plotHIST/LC08_232066_20190727_SR.tif\"\n",
    "img = rasterio.open(path_raster)"
   ]
  },
  {
   "cell_type": "code",
   "execution_count": null,
   "metadata": {
    "colab": {
     "base_uri": "https://localhost:8080/",
     "height": 365
    },
    "id": "fQy2fTHieD2u",
    "outputId": "999e3549-d8ce-4701-a5bc-84406226f01b"
   },
   "outputs": [
    {
     "data": {
      "image/png": "[encoded data removed]",
      "text/plain": [
       "<Figure size 504x360 with 1 Axes>"
      ]
     },
     "metadata": {},
     "output_type": "display_data"
    }
   ],
   "source": [
    "# Vizualizamos la imagen en RGB\n",
    "fig, axes = plt.subplots(figsize = (7, 5))\n",
    "\n",
    "plotHist(img, ax = axes, bands = [0, 1, 2, 3], label = ['Blue','Green','Red','Nir'])\n",
    "axes.set_xlim((-100, 5000))\n",
    "plt.show()"
   ]
  }
 ],
 "metadata": {
  "colab": {
   "provenance": []
  },
  "kernelspec": {
   "display_name": "Python 3 (ipykernel)",
   "language": "python",
   "name": "python3"
  },
  "language_info": {
   "codemirror_mode": {
    "name": "ipython",
    "version": 3
   },
   "file_extension": ".py",
   "mimetype": "text/x-python",
   "name": "python",
   "nbconvert_exporter": "python",
   "pygments_lexer": "ipython3",
   "version": "3.11.4"
  },
  "toc": {
   "base_numbering": 1,
   "nav_menu": {},
   "number_sections": false,
   "sideBar": true,
   "skip_h1_title": false,
   "title_cell": "Table of Contents",
   "title_sidebar": "Contents",
   "toc_cell": false,
   "toc_position": {},
   "toc_section_display": true,
   "toc_window_display": false
  }
 },
 "nbformat": 4,
 "nbformat_minor": 1
}
