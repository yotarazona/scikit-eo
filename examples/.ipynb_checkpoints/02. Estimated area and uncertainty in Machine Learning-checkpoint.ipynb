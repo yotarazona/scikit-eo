{
 "cells": [
  {
   "cell_type": "markdown",
   "metadata": {
    "id": "fh5BEynP26_Y"
   },
   "source": [
    "<table class=\"ee-notebook-buttons\" align=\"center\">\n",
    "    <td><a target=\"_blank\"  href=\"https://colab.research.google.com/github/yotarazona/scikit-eo/blob/main/examples/02.%20Estimated%20area%20and%20uncertainty%20in%20Machine%20Learning.ipynb\"><img src=\"https://www.tensorflow.org/images/colab_logo_32px.png\" /> Run in Google Colab</a></td>\n",
    "</table>"
   ]
  },
  {
   "cell_type": "markdown",
   "metadata": {
    "id": "10Giun23tTue"
   },
   "source": [
    "# **_<div class=\"alert alert-success\"><font color='darkred'> Tutorials: 02 Estimating area and uncertainty in Machine Learning</font></div>_**"
   ]
  },
  {
   "cell_type": "markdown",
   "metadata": {
    "id": "_jvTvShPtTun"
   },
   "source": [
    "# 1.0 Libraries"
   ]
  },
  {
   "cell_type": "markdown",
   "metadata": {
    "id": "QJI4OzKCtTuo"
   },
   "source": [
    "To install ```scikit-eo``` and ```rasterio``` you can do it with the following line:"
   ]
  },
  {
   "cell_type": "code",
   "execution_count": null,
   "metadata": {
    "id": "DQbDpKdptTup"
   },
   "outputs": [],
   "source": [
    "!pip install scikeo rasterio geopandas"
   ]
  },
  {
   "cell_type": "markdown",
   "metadata": {
    "id": "Z7HaClOwtTus"
   },
   "source": [
    "Libraries to be used:"
   ]
  },
  {
   "cell_type": "code",
   "execution_count": 3,
   "metadata": {
    "executionInfo": {
     "elapsed": 303,
     "status": "ok",
     "timestamp": 1687019387653,
     "user": {
      "displayName": "Yonatan Tarazona Coronel",
      "userId": "05968912325731278527"
     },
     "user_tz": 300
    },
    "id": "LqCqwmJXtTut"
   },
   "outputs": [],
   "source": [
    "import rasterio\n",
    "import numpy as np\n",
    "import pandas as pd\n",
    "from scikeo.process import confintervalML"
   ]
  },
  {
   "cell_type": "markdown",
   "metadata": {
    "id": "3VxfxTAbJXfD"
   },
   "source": [
    "Connecting to Google Drive"
   ]
  },
  {
   "cell_type": "code",
   "execution_count": 5,
   "metadata": {
    "colab": {
     "base_uri": "https://localhost:8080/"
    },
    "executionInfo": {
     "elapsed": 17316,
     "status": "ok",
     "timestamp": 1687019481475,
     "user": {
      "displayName": "Yonatan Tarazona Coronel",
      "userId": "05968912325731278527"
     },
     "user_tz": 300
    },
    "id": "hp3R7GmBJYnA",
    "outputId": "9273f154-e7bd-4a4a-e984-ff4a0bc4a305"
   },
   "outputs": [
    {
     "name": "stdout",
     "output_type": "stream",
     "text": [
      "Mounted at /content/drive\n"
     ]
    }
   ],
   "source": [
    "from google.colab import drive\n",
    "drive.mount('/content/drive')"
   ]
  },
  {
   "cell_type": "markdown",
   "metadata": {
    "id": "rOCox346tTuu"
   },
   "source": [
    "## 2.0 Reading classified raster and confusion matrix"
   ]
  },
  {
   "cell_type": "markdown",
   "metadata": {
    "id": "1mWcndqQtTuv"
   },
   "source": [
    "The classified image was obtained using ther Random Forest classifier as well as the confusion matrix. This dataset can be downloaded [here](https://drive.google.com/drive/folders/193RhNpACu9THcOZu8OzMh-btnFCOgHrU?usp=sharing):"
   ]
  },
  {
   "cell_type": "code",
   "execution_count": 6,
   "metadata": {
    "executionInfo": {
     "elapsed": 859,
     "status": "ok",
     "timestamp": 1687019484690,
     "user": {
      "displayName": "Yonatan Tarazona Coronel",
      "userId": "05968912325731278527"
     },
     "user_tz": 300
    },
    "id": "1QQdCC8JtTu0"
   },
   "outputs": [],
   "source": [
    "# classified raster\n",
    "path_raster = \"/content/drive/MyDrive/Packages/scikit-eo_data/02_Uncertainty/LC08_232066_20190727_Label.tif\"\n",
    "img = rasterio.open(path_raster).read(1)\n",
    "\n",
    "# confusion matrix\n",
    "path_matrix = \"/content/drive/MyDrive/Packages/scikit-eo_data/02_Uncertainty/confusion_matrix.csv\"\n",
    "conf_error = pd.read_csv(path_matrix, index_col= 0, sep = ';')"
   ]
  },
  {
   "cell_type": "markdown",
   "metadata": {
    "id": "KdAl3OrLPzKx"
   },
   "source": [
    "Confusion matrix"
   ]
  },
  {
   "cell_type": "code",
   "execution_count": 7,
   "metadata": {
    "colab": {
     "base_uri": "https://localhost:8080/",
     "height": 269
    },
    "executionInfo": {
     "elapsed": 477,
     "status": "ok",
     "timestamp": 1687019488498,
     "user": {
      "displayName": "Yonatan Tarazona Coronel",
      "userId": "05968912325731278527"
     },
     "user_tz": 300
    },
    "id": "X2MooTMttTu2",
    "outputId": "7a69492c-4cf1-48ff-ddc6-b9d765730da5"
   },
   "outputs": [
    {
     "data": {
      "text/html": [
       "\n",
       "  <div id=\"df-d017a421-30cf-402a-95c9-618151f511f3\">\n",
       "    <div class=\"colab-df-container\">\n",
       "      <div>\n",
       "<style scoped>\n",
       "    .dataframe tbody tr th:only-of-type {\n",
       "        vertical-align: middle;\n",
       "    }\n",
       "\n",
       "    .dataframe tbody tr th {\n",
       "        vertical-align: top;\n",
       "    }\n",
       "\n",
       "    .dataframe thead th {\n",
       "        text-align: right;\n",
       "    }\n",
       "</style>\n",
       "<table border=\"1\" class=\"dataframe\">\n",
       "  <thead>\n",
       "    <tr style=\"text-align: right;\">\n",
       "      <th></th>\n",
       "      <th>1.0</th>\n",
       "      <th>2.0</th>\n",
       "      <th>3.0</th>\n",
       "      <th>4.0</th>\n",
       "      <th>Total</th>\n",
       "      <th>Users_Accuracy</th>\n",
       "      <th>Commission</th>\n",
       "    </tr>\n",
       "  </thead>\n",
       "  <tbody>\n",
       "    <tr>\n",
       "      <th>1.0</th>\n",
       "      <td>15.0</td>\n",
       "      <td>0.00</td>\n",
       "      <td>0.0</td>\n",
       "      <td>0.000000</td>\n",
       "      <td>15.0</td>\n",
       "      <td>100.000000</td>\n",
       "      <td>0.000000</td>\n",
       "    </tr>\n",
       "    <tr>\n",
       "      <th>2.0</th>\n",
       "      <td>0.0</td>\n",
       "      <td>15.00</td>\n",
       "      <td>0.0</td>\n",
       "      <td>1.000000</td>\n",
       "      <td>16.0</td>\n",
       "      <td>93.750000</td>\n",
       "      <td>6.250000</td>\n",
       "    </tr>\n",
       "    <tr>\n",
       "      <th>3.0</th>\n",
       "      <td>0.0</td>\n",
       "      <td>0.00</td>\n",
       "      <td>14.0</td>\n",
       "      <td>0.000000</td>\n",
       "      <td>14.0</td>\n",
       "      <td>100.000000</td>\n",
       "      <td>0.000000</td>\n",
       "    </tr>\n",
       "    <tr>\n",
       "      <th>4.0</th>\n",
       "      <td>0.0</td>\n",
       "      <td>1.00</td>\n",
       "      <td>0.0</td>\n",
       "      <td>18.000000</td>\n",
       "      <td>19.0</td>\n",
       "      <td>94.736842</td>\n",
       "      <td>5.263158</td>\n",
       "    </tr>\n",
       "    <tr>\n",
       "      <th>Total</th>\n",
       "      <td>15.0</td>\n",
       "      <td>16.00</td>\n",
       "      <td>14.0</td>\n",
       "      <td>19.000000</td>\n",
       "      <td>NaN</td>\n",
       "      <td>NaN</td>\n",
       "      <td>NaN</td>\n",
       "    </tr>\n",
       "    <tr>\n",
       "      <th>Producer_Accuracy</th>\n",
       "      <td>100.0</td>\n",
       "      <td>93.75</td>\n",
       "      <td>100.0</td>\n",
       "      <td>94.736842</td>\n",
       "      <td>NaN</td>\n",
       "      <td>NaN</td>\n",
       "      <td>NaN</td>\n",
       "    </tr>\n",
       "    <tr>\n",
       "      <th>Omission</th>\n",
       "      <td>0.0</td>\n",
       "      <td>6.25</td>\n",
       "      <td>0.0</td>\n",
       "      <td>5.263158</td>\n",
       "      <td>NaN</td>\n",
       "      <td>NaN</td>\n",
       "      <td>NaN</td>\n",
       "    </tr>\n",
       "  </tbody>\n",
       "</table>\n",
       "</div>\n",
       "      <button class=\"colab-df-convert\" onclick=\"convertToInteractive('df-d017a421-30cf-402a-95c9-618151f511f3')\"\n",
       "              title=\"Convert this dataframe to an interactive table.\"\n",
       "              style=\"display:none;\">\n",
       "        \n",
       "  <svg xmlns=\"http://www.w3.org/2000/svg\" height=\"24px\"viewBox=\"0 0 24 24\"\n",
       "       width=\"24px\">\n",
       "    <path d=\"M0 0h24v24H0V0z\" fill=\"none\"/>\n",
       "    <path d=\"M18.56 5.44l.94 2.06.94-2.06 2.06-.94-2.06-.94-.94-2.06-.94 2.06-2.06.94zm-11 1L8.5 8.5l.94-2.06 2.06-.94-2.06-.94L8.5 2.5l-.94 2.06-2.06.94zm10 10l.94 2.06.94-2.06 2.06-.94-2.06-.94-.94-2.06-.94 2.06-2.06.94z\"/><path d=\"M17.41 7.96l-1.37-1.37c-.4-.4-.92-.59-1.43-.59-.52 0-1.04.2-1.43.59L10.3 9.45l-7.72 7.72c-.78.78-.78 2.05 0 2.83L4 21.41c.39.39.9.59 1.41.59.51 0 1.02-.2 1.41-.59l7.78-7.78 2.81-2.81c.8-.78.8-2.07 0-2.86zM5.41 20L4 18.59l7.72-7.72 1.47 1.35L5.41 20z\"/>\n",
       "  </svg>\n",
       "      </button>\n",
       "      \n",
       "  <style>\n",
       "    .colab-df-container {\n",
       "      display:flex;\n",
       "      flex-wrap:wrap;\n",
       "      gap: 12px;\n",
       "    }\n",
       "\n",
       "    .colab-df-convert {\n",
       "      background-color: #E8F0FE;\n",
       "      border: none;\n",
       "      border-radius: 50%;\n",
       "      cursor: pointer;\n",
       "      display: none;\n",
       "      fill: #1967D2;\n",
       "      height: 32px;\n",
       "      padding: 0 0 0 0;\n",
       "      width: 32px;\n",
       "    }\n",
       "\n",
       "    .colab-df-convert:hover {\n",
       "      background-color: #E2EBFA;\n",
       "      box-shadow: 0px 1px 2px rgba(60, 64, 67, 0.3), 0px 1px 3px 1px rgba(60, 64, 67, 0.15);\n",
       "      fill: #174EA6;\n",
       "    }\n",
       "\n",
       "    [theme=dark] .colab-df-convert {\n",
       "      background-color: #3B4455;\n",
       "      fill: #D2E3FC;\n",
       "    }\n",
       "\n",
       "    [theme=dark] .colab-df-convert:hover {\n",
       "      background-color: #434B5C;\n",
       "      box-shadow: 0px 1px 3px 1px rgba(0, 0, 0, 0.15);\n",
       "      filter: drop-shadow(0px 1px 2px rgba(0, 0, 0, 0.3));\n",
       "      fill: #FFFFFF;\n",
       "    }\n",
       "  </style>\n",
       "\n",
       "      <script>\n",
       "        const buttonEl =\n",
       "          document.querySelector('#df-d017a421-30cf-402a-95c9-618151f511f3 button.colab-df-convert');\n",
       "        buttonEl.style.display =\n",
       "          google.colab.kernel.accessAllowed ? 'block' : 'none';\n",
       "\n",
       "        async function convertToInteractive(key) {\n",
       "          const element = document.querySelector('#df-d017a421-30cf-402a-95c9-618151f511f3');\n",
       "          const dataTable =\n",
       "            await google.colab.kernel.invokeFunction('convertToInteractive',\n",
       "                                                     [key], {});\n",
       "          if (!dataTable) return;\n",
       "\n",
       "          const docLinkHtml = 'Like what you see? Visit the ' +\n",
       "            '<a target=\"_blank\" href=https://colab.research.google.com/notebooks/data_table.ipynb>data table notebook</a>'\n",
       "            + ' to learn more about interactive tables.';\n",
       "          element.innerHTML = '';\n",
       "          dataTable['output_type'] = 'display_data';\n",
       "          await google.colab.output.renderOutput(dataTable, element);\n",
       "          const docLink = document.createElement('div');\n",
       "          docLink.innerHTML = docLinkHtml;\n",
       "          element.appendChild(docLink);\n",
       "        }\n",
       "      </script>\n",
       "    </div>\n",
       "  </div>\n",
       "  "
      ],
      "text/plain": [
       "                     1.0    2.0    3.0        4.0  Total  Users_Accuracy  \\\n",
       "1.0                 15.0   0.00    0.0   0.000000   15.0      100.000000   \n",
       "2.0                  0.0  15.00    0.0   1.000000   16.0       93.750000   \n",
       "3.0                  0.0   0.00   14.0   0.000000   14.0      100.000000   \n",
       "4.0                  0.0   1.00    0.0  18.000000   19.0       94.736842   \n",
       "Total               15.0  16.00   14.0  19.000000    NaN             NaN   \n",
       "Producer_Accuracy  100.0  93.75  100.0  94.736842    NaN             NaN   \n",
       "Omission             0.0   6.25    0.0   5.263158    NaN             NaN   \n",
       "\n",
       "                   Commission  \n",
       "1.0                  0.000000  \n",
       "2.0                  6.250000  \n",
       "3.0                  0.000000  \n",
       "4.0                  5.263158  \n",
       "Total                     NaN  \n",
       "Producer_Accuracy         NaN  \n",
       "Omission                  NaN  "
      ]
     },
     "execution_count": 7,
     "metadata": {},
     "output_type": "execute_result"
    }
   ],
   "source": [
    "conf_error"
   ]
  },
  {
   "cell_type": "markdown",
   "metadata": {
    "id": "qJhwTYOIJhfW"
   },
   "source": [
    "Only confusion matrix values:"
   ]
  },
  {
   "cell_type": "code",
   "execution_count": 8,
   "metadata": {
    "colab": {
     "base_uri": "https://localhost:8080/"
    },
    "executionInfo": {
     "elapsed": 278,
     "status": "ok",
     "timestamp": 1687019511928,
     "user": {
      "displayName": "Yonatan Tarazona Coronel",
      "userId": "05968912325731278527"
     },
     "user_tz": 300
    },
    "id": "ismWu0uQQKNw",
    "outputId": "35048aad-8b18-4b6f-c4bc-9e844b6c93a1"
   },
   "outputs": [
    {
     "data": {
      "text/plain": [
       "array([[15.,  0.,  0.,  0.],\n",
       "       [ 0., 15.,  0.,  1.],\n",
       "       [ 0.,  0., 14.,  0.],\n",
       "       [ 0.,  1.,  0., 18.]])"
      ]
     },
     "execution_count": 8,
     "metadata": {},
     "output_type": "execute_result"
    }
   ],
   "source": [
    "values = conf_error.iloc[0:4, 0:4].to_numpy()\n",
    "values"
   ]
  },
  {
   "cell_type": "markdown",
   "metadata": {
    "id": "YQ97AMjOtTu7"
   },
   "source": [
    "## 3.0 Results"
   ]
  },
  {
   "cell_type": "markdown",
   "metadata": {
    "id": "k6BB148ZjcBZ"
   },
   "source": [
    "Obtaining estimated area and uncertainty. Be careful with the parameter to be used with the ```confintervalML()``` function. Let's explain in detail:\n",
    "- *matrix*: is the confusion matrix with only values\n",
    "- *image_pred*: the classified image in rows and cols (2d)\n",
    "- *pixel_size*: the pixel size\n",
    "- *nodata*: in this image nodata has a -9999 value, but in other cases it could take 0 or NaN. So, be careful with this parameter."
   ]
  },
  {
   "cell_type": "code",
   "execution_count": 9,
   "metadata": {
    "colab": {
     "base_uri": "https://localhost:8080/"
    },
    "executionInfo": {
     "elapsed": 305,
     "status": "ok",
     "timestamp": 1687019547835,
     "user": {
      "displayName": "Yonatan Tarazona Coronel",
      "userId": "05968912325731278527"
     },
     "user_tz": 300
    },
    "id": "LofMu2ryRTNM",
    "outputId": "69451bd8-5f08-47fa-94d5-4ea1eed84aa2"
   },
   "outputs": [
    {
     "name": "stdout",
     "output_type": "stream",
     "text": [
      "***** Confusion Matrix by Estimated Proportions of area an uncertainty*****\n",
      "\n",
      "Overall accuracy with 95%\n",
      "0.9758 ± 0.0418\n",
      "\n",
      "Confusion matrix\n",
      "            1       2       3       4  Total[Wi]  Area[pixels]\n",
      "1      0.0414  0.0000  0.0000  0.0000     0.0414       67246.0\n",
      "2      0.0000  0.0462  0.0000  0.0031     0.0493       79983.0\n",
      "3      0.0000  0.0000  0.5081  0.0000     0.5081      825123.0\n",
      "4      0.0000  0.0211  0.0000  0.3801     0.4012      651448.0\n",
      "Total  0.0414  0.0673  0.5081  0.3832     1.0000     1623800.0\n",
      "\n",
      "User´s accuracy with 95%\n",
      "1.0: 1.0000 ± 0.0000\n",
      "2.0: 0.9375 ± 0.1225\n",
      "3.0: 1.0000 ± 0.0000\n",
      "4.0: 0.9474 ± 0.1032\n",
      "\n",
      "Estimating area (Ha) and uncertainty with 95%\n",
      "1.0: 6052.1400 ± 0.0000\n",
      "2.0: 9834.3719 ± 6112.1256\n",
      "3.0: 74261.0700 ± 0.0000\n",
      "4.0: 55994.4181 ± 6112.1256\n"
     ]
    }
   ],
   "source": [
    "confintervalML(matrix = values, image_pred = img, pixel_size = 30, nodata = -9999)"
   ]
  }
 ],
 "metadata": {
  "colab": {
   "provenance": []
  },
  "kernelspec": {
   "display_name": "Python 3 (ipykernel)",
   "language": "python",
   "name": "python3"
  },
  "language_info": {
   "codemirror_mode": {
    "name": "ipython",
    "version": 3
   },
   "file_extension": ".py",
   "mimetype": "text/x-python",
   "name": "python",
   "nbconvert_exporter": "python",
   "pygments_lexer": "ipython3",
   "version": "3.11.4"
  },
  "toc": {
   "base_numbering": 1,
   "nav_menu": {},
   "number_sections": false,
   "sideBar": true,
   "skip_h1_title": false,
   "title_cell": "Table of Contents",
   "title_sidebar": "Contents",
   "toc_cell": false,
   "toc_position": {},
   "toc_section_display": true,
   "toc_window_display": false
  }
 },
 "nbformat": 4,
 "nbformat_minor": 1
}
